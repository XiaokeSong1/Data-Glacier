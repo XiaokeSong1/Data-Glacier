{
 "cells": [
  {
   "cell_type": "code",
   "execution_count": 33,
   "id": "e0092afd",
   "metadata": {},
   "outputs": [],
   "source": [
    "import pandas as pd\n",
    "import numpy as np\n",
    "import matplotlib.pyplot as plt\n",
    "import seaborn as sns\n",
    "from scipy.stats import chi2_contingency, ttest_ind, pearsonr"
   ]
  },
  {
   "cell_type": "code",
   "execution_count": 8,
   "id": "ef616ea8",
   "metadata": {},
   "outputs": [],
   "source": [
    "cab_data = pd.read_csv(\"Cab_Data.csv\")\n",
    "customer_id = pd.read_csv(\"Customer_ID.csv\")\n",
    "transaction_id = pd.read_csv(\"Transaction_ID.csv\")\n",
    "city = pd.read_csv(\"City.csv\")"
   ]
  },
  {
   "cell_type": "code",
   "execution_count": 10,
   "id": "67857a76",
   "metadata": {},
   "outputs": [
    {
     "data": {
      "text/plain": [
       "City          object\n",
       "Population    object\n",
       "Users         object\n",
       "dtype: object"
      ]
     },
     "execution_count": 10,
     "metadata": {},
     "output_type": "execute_result"
    }
   ],
   "source": [
    "cab_data.head()\n",
    "cab_data.dtypes\n",
    "\n",
    "customer_id.head()\n",
    "customer_id.dtypes\n",
    "\n",
    "transaction_id.head()\n",
    "transaction_id.dtypes\n",
    "\n",
    "city.head()\n",
    "city.dtypes"
   ]
  },
  {
   "cell_type": "code",
   "execution_count": 11,
   "id": "86ef80ed",
   "metadata": {},
   "outputs": [],
   "source": [
    "# Merge transaction_id and customer_id dataframes on customer ID column\n",
    "transaction_customer = pd.merge(transaction_id, customer_id, on='Customer ID')\n",
    "\n",
    "# Merge cab_data and city dataframes on City column\n",
    "cab_city = pd.merge(cab_data, city, on='City')"
   ]
  },
  {
   "cell_type": "code",
   "execution_count": 14,
   "id": "9ef805b5",
   "metadata": {},
   "outputs": [],
   "source": [
    "# Create a new column in cab_city dataframe for profit\n",
    "cab_city['Profit'] = cab_city['Price Charged'] - cab_city['Cost of Trip']"
   ]
  },
  {
   "cell_type": "code",
   "execution_count": 15,
   "id": "131771dc",
   "metadata": {},
   "outputs": [],
   "source": [
    "# Merge transaction_customer and cab_city dataframes on Transaction ID column\n",
    "master_data = pd.merge(transaction_customer, cab_city, on='Transaction ID')\n",
    "# The master_data dataframe contains all the relevant information from the original datasets, including details of transactions, customer demographics, and cab company details."
   ]
  },
  {
   "cell_type": "code",
   "execution_count": 21,
   "id": "c21be7de",
   "metadata": {},
   "outputs": [
    {
     "data": {
      "text/plain": [
       "0"
      ]
     },
     "execution_count": 21,
     "metadata": {},
     "output_type": "execute_result"
    }
   ],
   "source": [
    "# Check for duplicates in master_data dataframe\n",
    "master_data.duplicated().sum()"
   ]
  },
  {
   "cell_type": "code",
   "execution_count": 22,
   "id": "963b86e7",
   "metadata": {},
   "outputs": [],
   "source": [
    "# Drop any duplicate rows from master_data dataframe\n",
    "master_data.drop_duplicates(inplace=True)"
   ]
  },
  {
   "cell_type": "code",
   "execution_count": 19,
   "id": "5442421a",
   "metadata": {},
   "outputs": [
    {
     "data": {
      "text/plain": [
       "Transaction ID        0\n",
       "Customer ID           0\n",
       "Payment_Mode          0\n",
       "Gender                0\n",
       "Age                   0\n",
       "Income (USD/Month)    0\n",
       "Date of Travel        0\n",
       "Company               0\n",
       "City                  0\n",
       "KM Travelled          0\n",
       "Price Charged         0\n",
       "Cost of Trip          0\n",
       "Population            0\n",
       "Users                 0\n",
       "Profit                0\n",
       "dtype: int64"
      ]
     },
     "execution_count": 19,
     "metadata": {},
     "output_type": "execute_result"
    }
   ],
   "source": [
    "# Check for missing values in the master_data dataframe\n",
    "master_data.isna().sum()"
   ]
  },
  {
   "cell_type": "code",
   "execution_count": 20,
   "id": "1e67207b",
   "metadata": {},
   "outputs": [],
   "source": [
    "# Detect and remove outliers in the Profit column using Z-score\n",
    "from scipy import stats\n",
    "z_scores = stats.zscore(master_data['Profit'])\n",
    "abs_z_scores = np.abs(z_scores)\n",
    "filtered_entries = (abs_z_scores < 3)\n",
    "master_data = master_data[filtered_entries]"
   ]
  },
  {
   "cell_type": "markdown",
   "id": "174d8a67",
   "metadata": {},
   "source": [
    "# EDA #"
   ]
  },
  {
   "cell_type": "code",
   "execution_count": 26,
   "id": "8a68ddb3",
   "metadata": {},
   "outputs": [],
   "source": [
    "# Merge the datasets\n",
    "merged_data = pd.merge(cab_data, transaction_id, on='Transaction ID')\n",
    "merged_data = pd.merge(merged_data, customer_id, on='Customer ID')\n",
    "merged_data = pd.merge(merged_data, city, on='City')"
   ]
  },
  {
   "cell_type": "code",
   "execution_count": 29,
   "id": "5d4b8c71",
   "metadata": {},
   "outputs": [
    {
     "data": {
      "text/html": [
       "<div>\n",
       "<style scoped>\n",
       "    .dataframe tbody tr th:only-of-type {\n",
       "        vertical-align: middle;\n",
       "    }\n",
       "\n",
       "    .dataframe tbody tr th {\n",
       "        vertical-align: top;\n",
       "    }\n",
       "\n",
       "    .dataframe thead th {\n",
       "        text-align: right;\n",
       "    }\n",
       "</style>\n",
       "<table border=\"1\" class=\"dataframe\">\n",
       "  <thead>\n",
       "    <tr style=\"text-align: right;\">\n",
       "      <th></th>\n",
       "      <th>Transaction ID</th>\n",
       "      <th>Date of Travel</th>\n",
       "      <th>Company</th>\n",
       "      <th>City</th>\n",
       "      <th>KM Travelled</th>\n",
       "      <th>Price Charged</th>\n",
       "      <th>Cost of Trip</th>\n",
       "      <th>Customer ID</th>\n",
       "      <th>Payment_Mode</th>\n",
       "      <th>Gender</th>\n",
       "      <th>Age</th>\n",
       "      <th>Income (USD/Month)</th>\n",
       "      <th>Population</th>\n",
       "      <th>Users</th>\n",
       "    </tr>\n",
       "  </thead>\n",
       "  <tbody>\n",
       "    <tr>\n",
       "      <th>0</th>\n",
       "      <td>10000011</td>\n",
       "      <td>42377</td>\n",
       "      <td>Pink Cab</td>\n",
       "      <td>ATLANTA GA</td>\n",
       "      <td>30.45</td>\n",
       "      <td>370.95</td>\n",
       "      <td>313.6350</td>\n",
       "      <td>29290</td>\n",
       "      <td>Card</td>\n",
       "      <td>Male</td>\n",
       "      <td>28</td>\n",
       "      <td>10813</td>\n",
       "      <td>814,885</td>\n",
       "      <td>24,701</td>\n",
       "    </tr>\n",
       "    <tr>\n",
       "      <th>1</th>\n",
       "      <td>10351127</td>\n",
       "      <td>43302</td>\n",
       "      <td>Yellow Cab</td>\n",
       "      <td>ATLANTA GA</td>\n",
       "      <td>26.19</td>\n",
       "      <td>598.70</td>\n",
       "      <td>317.4228</td>\n",
       "      <td>29290</td>\n",
       "      <td>Cash</td>\n",
       "      <td>Male</td>\n",
       "      <td>28</td>\n",
       "      <td>10813</td>\n",
       "      <td>814,885</td>\n",
       "      <td>24,701</td>\n",
       "    </tr>\n",
       "    <tr>\n",
       "      <th>2</th>\n",
       "      <td>10412921</td>\n",
       "      <td>43427</td>\n",
       "      <td>Yellow Cab</td>\n",
       "      <td>ATLANTA GA</td>\n",
       "      <td>42.55</td>\n",
       "      <td>792.05</td>\n",
       "      <td>597.4020</td>\n",
       "      <td>29290</td>\n",
       "      <td>Card</td>\n",
       "      <td>Male</td>\n",
       "      <td>28</td>\n",
       "      <td>10813</td>\n",
       "      <td>814,885</td>\n",
       "      <td>24,701</td>\n",
       "    </tr>\n",
       "    <tr>\n",
       "      <th>3</th>\n",
       "      <td>10000012</td>\n",
       "      <td>42375</td>\n",
       "      <td>Pink Cab</td>\n",
       "      <td>ATLANTA GA</td>\n",
       "      <td>28.62</td>\n",
       "      <td>358.52</td>\n",
       "      <td>334.8540</td>\n",
       "      <td>27703</td>\n",
       "      <td>Card</td>\n",
       "      <td>Male</td>\n",
       "      <td>27</td>\n",
       "      <td>9237</td>\n",
       "      <td>814,885</td>\n",
       "      <td>24,701</td>\n",
       "    </tr>\n",
       "    <tr>\n",
       "      <th>4</th>\n",
       "      <td>10320494</td>\n",
       "      <td>43211</td>\n",
       "      <td>Yellow Cab</td>\n",
       "      <td>ATLANTA GA</td>\n",
       "      <td>36.38</td>\n",
       "      <td>721.10</td>\n",
       "      <td>467.1192</td>\n",
       "      <td>27703</td>\n",
       "      <td>Card</td>\n",
       "      <td>Male</td>\n",
       "      <td>27</td>\n",
       "      <td>9237</td>\n",
       "      <td>814,885</td>\n",
       "      <td>24,701</td>\n",
       "    </tr>\n",
       "  </tbody>\n",
       "</table>\n",
       "</div>"
      ],
      "text/plain": [
       "   Transaction ID  Date of Travel     Company        City  KM Travelled  \\\n",
       "0        10000011           42377    Pink Cab  ATLANTA GA         30.45   \n",
       "1        10351127           43302  Yellow Cab  ATLANTA GA         26.19   \n",
       "2        10412921           43427  Yellow Cab  ATLANTA GA         42.55   \n",
       "3        10000012           42375    Pink Cab  ATLANTA GA         28.62   \n",
       "4        10320494           43211  Yellow Cab  ATLANTA GA         36.38   \n",
       "\n",
       "   Price Charged  Cost of Trip  Customer ID Payment_Mode Gender  Age  \\\n",
       "0         370.95      313.6350        29290         Card   Male   28   \n",
       "1         598.70      317.4228        29290         Cash   Male   28   \n",
       "2         792.05      597.4020        29290         Card   Male   28   \n",
       "3         358.52      334.8540        27703         Card   Male   27   \n",
       "4         721.10      467.1192        27703         Card   Male   27   \n",
       "\n",
       "   Income (USD/Month) Population     Users  \n",
       "0               10813   814,885    24,701   \n",
       "1               10813   814,885    24,701   \n",
       "2               10813   814,885    24,701   \n",
       "3                9237   814,885    24,701   \n",
       "4                9237   814,885    24,701   "
      ]
     },
     "execution_count": 29,
     "metadata": {},
     "output_type": "execute_result"
    }
   ],
   "source": [
    "merged_data.head()"
   ]
  },
  {
   "cell_type": "code",
   "execution_count": 27,
   "id": "2f0bfea1",
   "metadata": {},
   "outputs": [
    {
     "name": "stdout",
     "output_type": "stream",
     "text": [
      "   Transaction ID  Date of Travel     Company        City  KM Travelled  \\\n",
      "0        10000011           42377    Pink Cab  ATLANTA GA         30.45   \n",
      "1        10351127           43302  Yellow Cab  ATLANTA GA         26.19   \n",
      "2        10412921           43427  Yellow Cab  ATLANTA GA         42.55   \n",
      "3        10000012           42375    Pink Cab  ATLANTA GA         28.62   \n",
      "4        10320494           43211  Yellow Cab  ATLANTA GA         36.38   \n",
      "\n",
      "   Price Charged  Cost of Trip  Customer ID Payment_Mode Gender  Age  \\\n",
      "0         370.95      313.6350        29290         Card   Male   28   \n",
      "1         598.70      317.4228        29290         Cash   Male   28   \n",
      "2         792.05      597.4020        29290         Card   Male   28   \n",
      "3         358.52      334.8540        27703         Card   Male   27   \n",
      "4         721.10      467.1192        27703         Card   Male   27   \n",
      "\n",
      "   Income (USD/Month) Population     Users  \n",
      "0               10813   814,885    24,701   \n",
      "1               10813   814,885    24,701   \n",
      "2               10813   814,885    24,701   \n",
      "3                9237   814,885    24,701   \n",
      "4                9237   814,885    24,701   \n",
      "       Transaction ID  Date of Travel   KM Travelled  Price Charged  \\\n",
      "count    3.593920e+05   359392.000000  359392.000000  359392.000000   \n",
      "mean     1.022076e+07    42964.067998      22.567254     423.443311   \n",
      "std      1.268058e+05      307.467197      12.233526     274.378911   \n",
      "min      1.000001e+07    42371.000000       1.900000      15.600000   \n",
      "25%      1.011081e+07    42697.000000      12.000000     206.437500   \n",
      "50%      1.022104e+07    42988.000000      22.440000     386.360000   \n",
      "75%      1.033094e+07    43232.000000      32.960000     583.660000   \n",
      "max      1.044011e+07    43465.000000      48.000000    2048.030000   \n",
      "\n",
      "        Cost of Trip    Customer ID            Age  Income (USD/Month)  \n",
      "count  359392.000000  359392.000000  359392.000000       359392.000000  \n",
      "mean      286.190113   19191.652115      35.336705        15048.822937  \n",
      "std       157.993661   21012.412463      12.594234         7969.409482  \n",
      "min        19.000000       1.000000      18.000000         2000.000000  \n",
      "25%       151.200000    2705.000000      25.000000         8424.000000  \n",
      "50%       282.480000    7459.000000      33.000000        14685.000000  \n",
      "75%       413.683200   36078.000000      42.000000        21035.000000  \n",
      "max       691.200000   60000.000000      65.000000        35000.000000  \n",
      "<class 'pandas.core.frame.DataFrame'>\n",
      "Int64Index: 359392 entries, 0 to 359391\n",
      "Data columns (total 14 columns):\n",
      " #   Column              Non-Null Count   Dtype  \n",
      "---  ------              --------------   -----  \n",
      " 0   Transaction ID      359392 non-null  int64  \n",
      " 1   Date of Travel      359392 non-null  int64  \n",
      " 2   Company             359392 non-null  object \n",
      " 3   City                359392 non-null  object \n",
      " 4   KM Travelled        359392 non-null  float64\n",
      " 5   Price Charged       359392 non-null  float64\n",
      " 6   Cost of Trip        359392 non-null  float64\n",
      " 7   Customer ID         359392 non-null  int64  \n",
      " 8   Payment_Mode        359392 non-null  object \n",
      " 9   Gender              359392 non-null  object \n",
      " 10  Age                 359392 non-null  int64  \n",
      " 11  Income (USD/Month)  359392 non-null  int64  \n",
      " 12  Population          359392 non-null  object \n",
      " 13  Users               359392 non-null  object \n",
      "dtypes: float64(3), int64(5), object(6)\n",
      "memory usage: 41.1+ MB\n",
      "None\n"
     ]
    }
   ],
   "source": [
    "# Explore the data\n",
    "print(merged_data.head())\n",
    "print(merged_data.describe())\n",
    "print(merged_data.info())"
   ]
  },
  {
   "cell_type": "markdown",
   "id": "ce59b413",
   "metadata": {},
   "source": [
    "## Create a list of hypotheses to investigate"
   ]
  },
  {
   "cell_type": "code",
   "execution_count": 31,
   "id": "7e106164",
   "metadata": {},
   "outputs": [],
   "source": [
    "# Hypothesis 1: Male customers prefer Yellow Cab over Pink Cab\n",
    "# Create a contingency table of cab company and gender\n",
    "cont_table = pd.crosstab(merged_data['Company'], merged_data['Gender'])"
   ]
  },
  {
   "cell_type": "code",
   "execution_count": 34,
   "id": "aadc6c70",
   "metadata": {},
   "outputs": [
    {
     "name": "stdout",
     "output_type": "stream",
     "text": [
      "Hypothesis 1: Reject null hypothesis. There is a significant difference in the proportion of male customers between the two cab companies.\n"
     ]
    }
   ],
   "source": [
    "# Conduct a chi-squared test to determine if there is a significant difference\n",
    "# in the proportion of male customers between the two cab companies\n",
    "chi2_stat, p_value, dof, expected = chi2_contingency(cont_table)\n",
    "alpha = 0.05\n",
    "if p_value < alpha:\n",
    "    print(\"Hypothesis 1: Reject null hypothesis. There is a significant difference in the proportion of male customers between the two cab companies.\")\n",
    "else:\n",
    "    print(\"Hypothesis 1: Fail to reject null hypothesis. There is no significant difference in the proportion of male customers between the two cab companies.\")"
   ]
  },
  {
   "cell_type": "code",
   "execution_count": 36,
   "id": "4e4ca3f4",
   "metadata": {},
   "outputs": [
    {
     "name": "stdout",
     "output_type": "stream",
     "text": [
      "Hypothesis 2: Reject null hypothesis. There is a significant correlation between distance traveled and price charged.\n"
     ]
    }
   ],
   "source": [
    "# Hypothesis 2: The cost of the trip is correlated with the distance traveled\n",
    "# Calculate the correlation coefficient and p-value between distance traveled and price charged\n",
    "corr_coef, p_value = pearsonr(merged_data['KM Travelled'], merged_data['Price Charged'])\n",
    "if p_value < alpha:\n",
    "    print(\"Hypothesis 2: Reject null hypothesis. There is a significant correlation between distance traveled and price charged.\")\n",
    "else:\n",
    "    print(\"Hypothesis 2: Fail to reject null hypothesis. There is no significant correlation between distance traveled and price charged.\")"
   ]
  },
  {
   "cell_type": "code",
   "execution_count": 37,
   "id": "2db2f40d",
   "metadata": {},
   "outputs": [
    {
     "name": "stdout",
     "output_type": "stream",
     "text": [
      "Hypothesis 3: Fail to reject null hypothesis. There is no significant difference in the mean income between the two payment modes.\n"
     ]
    }
   ],
   "source": [
    "# Hypothesis 3: Customers paying with cash have a higher income than customers paying with a card\n",
    "# Calculate the mean income of customers paying with cash and those paying with a card\n",
    "cash_mean = merged_data.loc[merged_data['Payment_Mode'] == 'Cash', 'Income (USD/Month)'].mean()\n",
    "card_mean = merged_data.loc[merged_data['Payment_Mode'] == 'Card', 'Income (USD/Month)'].mean()\n",
    "\n",
    "# Conduct a t-test to determine if there is a significant difference in the mean income between the two payment modes\n",
    "t_stat, p_value = ttest_ind(merged_data.loc[merged_data['Payment_Mode'] == 'Cash', 'Income (USD/Month)'],\n",
    "                            merged_data.loc[merged_data['Payment_Mode'] == 'Card', 'Income (USD/Month)'])\n",
    "if p_value < alpha:\n",
    "    print(\"Hypothesis 3: Reject null hypothesis. Customers paying with cash have a higher income than customers paying with a card.\")\n",
    "else:\n",
    "    print(\"Hypothesis 3: Fail to reject null hypothesis. There is no significant difference in the mean income between the two payment modes.\")"
   ]
  },
  {
   "cell_type": "code",
   "execution_count": null,
   "id": "838c28ba",
   "metadata": {},
   "outputs": [],
   "source": []
  }
 ],
 "metadata": {
  "kernelspec": {
   "display_name": "Python 3 (ipykernel)",
   "language": "python",
   "name": "python3"
  },
  "language_info": {
   "codemirror_mode": {
    "name": "ipython",
    "version": 3
   },
   "file_extension": ".py",
   "mimetype": "text/x-python",
   "name": "python",
   "nbconvert_exporter": "python",
   "pygments_lexer": "ipython3",
   "version": "3.9.12"
  }
 },
 "nbformat": 4,
 "nbformat_minor": 5
}
